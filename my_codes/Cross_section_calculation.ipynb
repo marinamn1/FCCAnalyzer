{
 "cells": [
  {
   "cell_type": "code",
   "execution_count": 7,
   "id": "1a5c52af-4ff1-4a7b-8e24-d34351ed9130",
   "metadata": {},
   "outputs": [
    {
     "data": {
      "text/plain": [
       "['p8_ee_Zmumu_ecm91;1',\n",
       " 'p8_ee_Zmumu_ecm91/gen_muons_p;1',\n",
       " 'p8_ee_Zmumu_ecm91/gen_muons_theta;1',\n",
       " 'p8_ee_Zmumu_ecm91/gen_muons_phi;1',\n",
       " 'p8_ee_Zmumu_ecm91/gen_muons_no;1',\n",
       " 'p8_ee_Zmumu_ecm91/evts_initial;1',\n",
       " 'p8_ee_Zmumu_ecm91/cutFlow;1',\n",
       " 'p8_ee_Zmumu_ecm91/cos_theta;1',\n",
       " 'p8_ee_Zmumu_ecm91/acol;1',\n",
       " 'p8_ee_Zmumu_ecm91/muon_leading;1',\n",
       " 'p8_ee_Zmumu_ecm91/leps_all_p;1',\n",
       " 'p8_ee_Zmumu_ecm91/leps_all_theta;1',\n",
       " 'p8_ee_Zmumu_ecm91/leps_all_phi;1',\n",
       " 'p8_ee_Zmumu_ecm91/leps_all_q;1',\n",
       " 'p8_ee_Zmumu_ecm91/leps_all_no;1',\n",
       " 'p8_ee_Zmumu_ecm91/m_inv;1',\n",
       " 'p8_ee_Zmumu_ecm91/emiss;1',\n",
       " 'p8_ee_Zmumu_ecm91/visibleEnergy;1',\n",
       " 'p8_ee_Zmumu_ecm91/theta_plus;1',\n",
       " 'p8_ee_Zmumu_ecm91/theta_minus;1',\n",
       " 'p8_ee_Zmumu_ecm91/cos_theta_plus;1',\n",
       " 'p8_ee_Zmumu_ecm91/cos_theta_minus;1',\n",
       " 'p8_ee_Zmumu_ecm91/cosThetac;1',\n",
       " 'p8_ee_Zmumu_ecm91/evts_final;1',\n",
       " 'p8_ee_Zmumu_ecm91/meta;1',\n",
       " 'p8_ee_Ztautau_ecm91;1',\n",
       " 'p8_ee_Ztautau_ecm91/gen_muons_p;1',\n",
       " 'p8_ee_Ztautau_ecm91/gen_muons_theta;1',\n",
       " 'p8_ee_Ztautau_ecm91/gen_muons_phi;1',\n",
       " 'p8_ee_Ztautau_ecm91/gen_muons_no;1',\n",
       " 'p8_ee_Ztautau_ecm91/evts_initial;1',\n",
       " 'p8_ee_Ztautau_ecm91/cutFlow;1',\n",
       " 'p8_ee_Ztautau_ecm91/cos_theta;1',\n",
       " 'p8_ee_Ztautau_ecm91/acol;1',\n",
       " 'p8_ee_Ztautau_ecm91/muon_leading;1',\n",
       " 'p8_ee_Ztautau_ecm91/leps_all_p;1',\n",
       " 'p8_ee_Ztautau_ecm91/leps_all_theta;1',\n",
       " 'p8_ee_Ztautau_ecm91/leps_all_phi;1',\n",
       " 'p8_ee_Ztautau_ecm91/leps_all_q;1',\n",
       " 'p8_ee_Ztautau_ecm91/leps_all_no;1',\n",
       " 'p8_ee_Ztautau_ecm91/m_inv;1',\n",
       " 'p8_ee_Ztautau_ecm91/emiss;1',\n",
       " 'p8_ee_Ztautau_ecm91/visibleEnergy;1',\n",
       " 'p8_ee_Ztautau_ecm91/theta_plus;1',\n",
       " 'p8_ee_Ztautau_ecm91/theta_minus;1',\n",
       " 'p8_ee_Ztautau_ecm91/cos_theta_plus;1',\n",
       " 'p8_ee_Ztautau_ecm91/cos_theta_minus;1',\n",
       " 'p8_ee_Ztautau_ecm91/cosThetac;1',\n",
       " 'p8_ee_Ztautau_ecm91/evts_final;1',\n",
       " 'p8_ee_Ztautau_ecm91/meta;1',\n",
       " 'wzp6_gaga_mumu_5_ecm91p2;1',\n",
       " 'wzp6_gaga_mumu_5_ecm91p2/gen_muons_p;1',\n",
       " 'wzp6_gaga_mumu_5_ecm91p2/gen_muons_theta;1',\n",
       " 'wzp6_gaga_mumu_5_ecm91p2/gen_muons_phi;1',\n",
       " 'wzp6_gaga_mumu_5_ecm91p2/gen_muons_no;1',\n",
       " 'wzp6_gaga_mumu_5_ecm91p2/evts_initial;1',\n",
       " 'wzp6_gaga_mumu_5_ecm91p2/cutFlow;1',\n",
       " 'wzp6_gaga_mumu_5_ecm91p2/cos_theta;1',\n",
       " 'wzp6_gaga_mumu_5_ecm91p2/acol;1',\n",
       " 'wzp6_gaga_mumu_5_ecm91p2/muon_leading;1',\n",
       " 'wzp6_gaga_mumu_5_ecm91p2/leps_all_p;1',\n",
       " 'wzp6_gaga_mumu_5_ecm91p2/leps_all_theta;1',\n",
       " 'wzp6_gaga_mumu_5_ecm91p2/leps_all_phi;1',\n",
       " 'wzp6_gaga_mumu_5_ecm91p2/leps_all_q;1',\n",
       " 'wzp6_gaga_mumu_5_ecm91p2/leps_all_no;1',\n",
       " 'wzp6_gaga_mumu_5_ecm91p2/m_inv;1',\n",
       " 'wzp6_gaga_mumu_5_ecm91p2/emiss;1',\n",
       " 'wzp6_gaga_mumu_5_ecm91p2/visibleEnergy;1',\n",
       " 'wzp6_gaga_mumu_5_ecm91p2/theta_plus;1',\n",
       " 'wzp6_gaga_mumu_5_ecm91p2/theta_minus;1',\n",
       " 'wzp6_gaga_mumu_5_ecm91p2/cos_theta_plus;1',\n",
       " 'wzp6_gaga_mumu_5_ecm91p2/cos_theta_minus;1',\n",
       " 'wzp6_gaga_mumu_5_ecm91p2/cosThetac;1',\n",
       " 'wzp6_gaga_mumu_5_ecm91p2/evts_final;1',\n",
       " 'wzp6_gaga_mumu_5_ecm91p2/meta;1']"
      ]
     },
     "execution_count": 7,
     "metadata": {},
     "output_type": "execute_result"
    }
   ],
   "source": [
    "import uproot\n",
    "import matplotlib.pyplot as plt\n",
    "import numpy as np\n",
    "import hist\n",
    "from hist import Hist\n",
    "import mplhep as hep\n",
    "\n",
    "f = uproot.open(\"/home/submit/marinamn/fccee/FCCAnalyzer/tmp/output_xsec_example.root\")\n",
    "f.keys()"
   ]
  },
  {
   "cell_type": "code",
   "execution_count": 8,
   "id": "c214812c-5642-442a-a465-62c934c3ec51",
   "metadata": {},
   "outputs": [
    {
     "name": "stdout",
     "output_type": "stream",
     "text": [
      "1462.0800000000002\n",
      "1462.0800000000002\n"
     ]
    }
   ],
   "source": [
    "cuts = f['p8_ee_Zmumu_ecm91/cutFlow;1'].to_hist()\n",
    "y,x = cuts.to_numpy()\n",
    "\n",
    "A = y[5]/y[0]\n",
    "\n",
    "cutstau = f['p8_ee_Ztautau_ecm91/cutFlow;1'].to_hist()\n",
    "yt,xt = cutstau.to_numpy()\n",
    "\n",
    "cross_section = (y[5])/(A*150000000)\n",
    "print(cross_section)\n",
    "print(y[5]/(A*150000000))"
   ]
  },
  {
   "cell_type": "code",
   "execution_count": null,
   "id": "fe5e7c31-2be2-4596-afbf-efa8682294f2",
   "metadata": {},
   "outputs": [],
   "source": []
  },
  {
   "cell_type": "code",
   "execution_count": 9,
   "id": "5f79262c-d302-4f45-bc8b-8bd072ca2be0",
   "metadata": {},
   "outputs": [
    {
     "name": "stdout",
     "output_type": "stream",
     "text": [
      "198591928588.80002\n",
      "219312000000.0\n",
      "0.9055224000000001\n"
     ]
    }
   ],
   "source": [
    "print(y[5])\n",
    "print(y[0])\n",
    "print(A)"
   ]
  },
  {
   "cell_type": "code",
   "execution_count": 22,
   "id": "0decda5c-088b-4de2-93f0-dfe3fe29642f",
   "metadata": {},
   "outputs": [
    {
     "name": "stdout",
     "output_type": "stream",
     "text": [
      "Acceptance = 91.75417% $\\pm$ 6 * $10{-7}\n",
      "Cross section = 1462 $pb^{-1}$ $\\pm$ 1.2 * $10^{0}$\n"
     ]
    }
   ],
   "source": [
    "print(\"Acceptance = 91.75417% $\\pm$ 6 * $10{-7}\")\n",
    "print(r\"Cross section = 1462 $pb^{-1}$ $\\pm$ 1.2 * $10^{0}$\")"
   ]
  },
  {
   "cell_type": "code",
   "execution_count": null,
   "id": "b6ba507c-d8ea-47ee-8f1c-7690b64e0cca",
   "metadata": {},
   "outputs": [],
   "source": []
  }
 ],
 "metadata": {
  "kernelspec": {
   "display_name": "fccenv",
   "language": "python",
   "name": "fccenv"
  },
  "language_info": {
   "codemirror_mode": {
    "name": "ipython",
    "version": 3
   },
   "file_extension": ".py",
   "mimetype": "text/x-python",
   "name": "python",
   "nbconvert_exporter": "python",
   "pygments_lexer": "ipython3",
   "version": "3.9.15"
  }
 },
 "nbformat": 4,
 "nbformat_minor": 5
}
